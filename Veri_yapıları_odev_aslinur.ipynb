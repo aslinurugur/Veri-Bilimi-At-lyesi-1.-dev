{
  "cells": [
    {
      "cell_type": "markdown",
      "id": "032d81b2",
      "metadata": {
        "id": "032d81b2"
      },
      "source": [
        "# 1\n",
        "x = 3 ----> floata çevirelim. Çevirdikten sonra beri tipinide yazdıralım.\n",
        "\n",
        "y = 4.5 -----> integere çevirelim. Çevirdikten sonra beri tipinide yazdıralım.\n",
        "\n",
        "z = \"8\" -----> integera çevirelim. Çevirdikten sonra beri tipinide yazdıralım.\n",
        "\n",
        "a = \"12\" -----> floata çevirelim. Çevirdikten sonra beri tipinide yazdıralım.\n",
        "\n",
        "b = \"46.8\" ------> integera çevirelim. Çevirdikten sonra beri tipinide yazdıralım."
      ]
    },
    {
      "cell_type": "code",
      "execution_count": null,
      "id": "f1b735c0",
      "metadata": {
        "id": "f1b735c0",
        "outputId": "ba355a57-a1d3-420b-ce76-566421d8c6c3",
        "colab": {
          "base_uri": "https://localhost:8080/"
        }
      },
      "outputs": [
        {
          "output_type": "execute_result",
          "data": {
            "text/plain": [
              "float"
            ]
          },
          "metadata": {},
          "execution_count": 44
        }
      ],
      "source": [
        "x = 3\n",
        "x = float(x)\n",
        "type(x)"
      ]
    },
    {
      "cell_type": "code",
      "source": [
        "y = 4.5\n",
        "y = int(y)\n",
        "type(y)"
      ],
      "metadata": {
        "id": "ZvdN4ztwClYE",
        "outputId": "e4245473-c104-4551-bef8-131edabc7f68",
        "colab": {
          "base_uri": "https://localhost:8080/"
        }
      },
      "id": "ZvdN4ztwClYE",
      "execution_count": null,
      "outputs": [
        {
          "output_type": "execute_result",
          "data": {
            "text/plain": [
              "int"
            ]
          },
          "metadata": {},
          "execution_count": 46
        }
      ]
    },
    {
      "cell_type": "code",
      "source": [
        "z = 8\n",
        "type(z)"
      ],
      "metadata": {
        "id": "RnYgRbGSC5UO",
        "outputId": "4ea78def-8455-4afe-a7e2-8e17c6be904b",
        "colab": {
          "base_uri": "https://localhost:8080/"
        }
      },
      "id": "RnYgRbGSC5UO",
      "execution_count": null,
      "outputs": [
        {
          "output_type": "execute_result",
          "data": {
            "text/plain": [
              "int"
            ]
          },
          "metadata": {},
          "execution_count": 48
        }
      ]
    },
    {
      "cell_type": "code",
      "source": [
        "a = 12\n",
        "a = float(a)\n",
        "type(a)"
      ],
      "metadata": {
        "id": "ZDNut9lQC9jK",
        "outputId": "df46071c-5265-45fc-e734-00f6eb122c6a",
        "colab": {
          "base_uri": "https://localhost:8080/"
        }
      },
      "id": "ZDNut9lQC9jK",
      "execution_count": null,
      "outputs": [
        {
          "output_type": "execute_result",
          "data": {
            "text/plain": [
              "float"
            ]
          },
          "metadata": {},
          "execution_count": 49
        }
      ]
    },
    {
      "cell_type": "code",
      "source": [
        "b = 46.8\n",
        "b = int(b)\n",
        "type(b)"
      ],
      "metadata": {
        "id": "ssJDnhEYDAeV",
        "outputId": "437a73b7-5a02-4735-e751-0a1b71c4344f",
        "colab": {
          "base_uri": "https://localhost:8080/"
        }
      },
      "id": "ssJDnhEYDAeV",
      "execution_count": null,
      "outputs": [
        {
          "output_type": "execute_result",
          "data": {
            "text/plain": [
              "int"
            ]
          },
          "metadata": {},
          "execution_count": 50
        }
      ]
    },
    {
      "cell_type": "markdown",
      "id": "95509718",
      "metadata": {
        "id": "95509718"
      },
      "source": [
        "# 2\n",
        "İsimlerden oluşan üç değişkene yaş değerleri atanır. Belirlenen üç değişken birbiriyle karşılaştırma operatörleri ile karşılaştırılır. Bu karşılaştırmalara mantıksal operatörler de eklenir."
      ]
    },
    {
      "cell_type": "code",
      "execution_count": null,
      "id": "50f77b4f",
      "metadata": {
        "id": "50f77b4f",
        "outputId": "49133893-2091-4f95-9699-a547eaf554b2",
        "colab": {
          "base_uri": "https://localhost:8080/"
        }
      },
      "outputs": [
        {
          "output_type": "execute_result",
          "data": {
            "text/plain": [
              "False"
            ]
          },
          "metadata": {},
          "execution_count": 51
        }
      ],
      "source": [
        "ali = 23\n",
        "ayse = 25\n",
        "fatma = 21\n",
        "\n",
        "ali > ayse and ali > fatma\n"
      ]
    },
    {
      "cell_type": "code",
      "source": [
        "ayse > ali or ayse < fatma"
      ],
      "metadata": {
        "id": "8CxCP8dJDFU0",
        "outputId": "8882457c-1824-495d-a9d6-7c968977b27c",
        "colab": {
          "base_uri": "https://localhost:8080/"
        }
      },
      "id": "8CxCP8dJDFU0",
      "execution_count": null,
      "outputs": [
        {
          "output_type": "execute_result",
          "data": {
            "text/plain": [
              "True"
            ]
          },
          "metadata": {},
          "execution_count": 52
        }
      ]
    },
    {
      "cell_type": "code",
      "source": [
        "ali == ayse"
      ],
      "metadata": {
        "id": "OJDUwWAqDGjG",
        "outputId": "5f3ae718-5e8e-483f-d6ef-80429c5443c6",
        "colab": {
          "base_uri": "https://localhost:8080/"
        }
      },
      "id": "OJDUwWAqDGjG",
      "execution_count": null,
      "outputs": [
        {
          "output_type": "execute_result",
          "data": {
            "text/plain": [
              "False"
            ]
          },
          "metadata": {},
          "execution_count": 53
        }
      ]
    },
    {
      "cell_type": "code",
      "source": [
        "not(ali<ayse and ali>fatma)"
      ],
      "metadata": {
        "id": "DQkCyE64DRd3",
        "outputId": "8223a761-1b38-43f3-9155-e883a9766449",
        "colab": {
          "base_uri": "https://localhost:8080/"
        }
      },
      "id": "DQkCyE64DRd3",
      "execution_count": null,
      "outputs": [
        {
          "output_type": "execute_result",
          "data": {
            "text/plain": [
              "False"
            ]
          },
          "metadata": {},
          "execution_count": 54
        }
      ]
    },
    {
      "cell_type": "markdown",
      "id": "a1a0eb92",
      "metadata": {
        "id": "a1a0eb92"
      },
      "source": [
        "# 3\n",
        "Kullanıcıdan iki değer girmesini istenir. Girilen değerlerin toplama, çıkarma, çarpma, bölme sonuçlarını yazdırılır."
      ]
    },
    {
      "cell_type": "code",
      "execution_count": null,
      "id": "c361e45a",
      "metadata": {
        "id": "c361e45a",
        "outputId": "b586745b-e655-44ab-f204-6c3b169efc77",
        "colab": {
          "base_uri": "https://localhost:8080/"
        }
      },
      "outputs": [
        {
          "output_type": "stream",
          "name": "stdout",
          "text": [
            "X Değeri Giriniz20\n",
            "Y Değeri Giriniz10\n",
            "Toplama : 30\n",
            "Çıkarma : 10\n",
            "Çarpma : 200\n",
            "Bölme : 2.0\n"
          ]
        }
      ],
      "source": [
        "x = int(input(\"X Değeri Giriniz\"))\n",
        "y = int(input(\"Y Değeri Giriniz\"))\n",
        "toplama = x+y\n",
        "cikarma = x-y\n",
        "carpma = x*y\n",
        "bolme = x/y\n",
        "print(\"Toplama :\", toplama)\n",
        "print(\"Çıkarma :\", cikarma)\n",
        "print(\"Çarpma :\", carpma)\n",
        "print(\"Bölme :\", bolme)\n"
      ]
    },
    {
      "cell_type": "markdown",
      "id": "060b0bea",
      "metadata": {
        "id": "060b0bea"
      },
      "source": [
        "# 4\n",
        "Kullanıcıdan isim, yaş, şehir ve meslek bilgilerini istenir ve cevaplarını yazdırılır."
      ]
    },
    {
      "cell_type": "code",
      "execution_count": null,
      "id": "6f5dea59",
      "metadata": {
        "id": "6f5dea59",
        "outputId": "6fa502fd-06d7-4663-e3c3-8db23a10b7c0",
        "colab": {
          "base_uri": "https://localhost:8080/"
        }
      },
      "outputs": [
        {
          "name": "stdout",
          "output_type": "stream",
          "text": [
            "İsim GirinizAslı\n",
            "Yaş Giriniz23\n",
            "Şehir GirinizBursa\n",
            "Meslek GirinizMühendis\n"
          ]
        }
      ],
      "source": [
        "isim = input(\"İsim Giriniz\")\n",
        "yas = input(\"Yaş Giriniz\")\n",
        "sehir = input(\"Şehir Giriniz\")\n",
        "meslek = input(\"Meslek Giriniz\")\n",
        "\n"
      ]
    },
    {
      "cell_type": "code",
      "source": [
        "print(\"İsim :\", isim)\n",
        "print(\"Yaş :\", yas)\n",
        "print(\"Şehir :\", sehir)\n",
        "print(\"Meslek :\", meslek)"
      ],
      "metadata": {
        "id": "iW4QfPopDx3E",
        "outputId": "aaab8abd-f624-436c-87b3-6824d2e49537",
        "colab": {
          "base_uri": "https://localhost:8080/"
        }
      },
      "id": "iW4QfPopDx3E",
      "execution_count": null,
      "outputs": [
        {
          "output_type": "stream",
          "name": "stdout",
          "text": [
            "İsim : Aslı\n",
            "Yaş : 23\n",
            "Şehir : Bursa\n",
            "Meslek : Mühendis\n"
          ]
        }
      ]
    },
    {
      "cell_type": "markdown",
      "id": "55e1a34e",
      "metadata": {
        "id": "55e1a34e"
      },
      "source": [
        "# 5\n",
        "\"Hi-Kod Veri Bilimi Atölyesi\" ifadesini bir değişkene tanımlanır.\n",
        "\n",
        "\n",
        " 1. İfadedeki her bir kelimeyi (\"Hi-Kod\", \"Veri\", \"Bilimi\", \"Atölyesi\") değişken içinden seçilir.\n",
        " 2. İfadeyi hepsini büyük harf olacak hale çevrilir. (\"HI-KOD VERİ BİLİMİ ATÖLYESİ\")\n",
        " 3. İfadeyi hepsini büyük harf olacak hale çevrilir.(\"hi-kod veri bilimi atölyesi\")\n",
        "\n",
        "\"0123456789\" ifadesindeki yalnızca çift sayıları ve yalnızca tek sayıları seçilir. (\"02468\", \"13579\")"
      ]
    },
    {
      "cell_type": "code",
      "execution_count": null,
      "id": "0fc1bc40",
      "metadata": {
        "id": "0fc1bc40",
        "outputId": "b7d36d05-247d-4e28-c9f6-5c3d63b90299",
        "colab": {
          "base_uri": "https://localhost:8080/"
        }
      },
      "outputs": [
        {
          "output_type": "execute_result",
          "data": {
            "text/plain": [
              "['Hi-Kod', 'Veri', 'Bilimi', 'Atölyesi']"
            ]
          },
          "metadata": {},
          "execution_count": 28
        }
      ],
      "source": [
        "atolye = \"Hi-Kod Veri Bilimi Atölyesi\"\n",
        "atolye.split()\n",
        "\n"
      ]
    },
    {
      "cell_type": "code",
      "source": [
        "atolye.upper()"
      ],
      "metadata": {
        "id": "qutjoNW6BjXO",
        "outputId": "9874afd6-4385-40b1-c16c-9ab6b46f7540",
        "colab": {
          "base_uri": "https://localhost:8080/",
          "height": 35
        }
      },
      "id": "qutjoNW6BjXO",
      "execution_count": null,
      "outputs": [
        {
          "output_type": "execute_result",
          "data": {
            "text/plain": [
              "'HI-KOD VERI BILIMI ATÖLYESI'"
            ],
            "application/vnd.google.colaboratory.intrinsic+json": {
              "type": "string"
            }
          },
          "metadata": {},
          "execution_count": 29
        }
      ]
    },
    {
      "cell_type": "code",
      "source": [
        "atolye.lower()"
      ],
      "metadata": {
        "id": "WKF_XlD8BnhA",
        "outputId": "22119455-549e-4aea-bdc4-8fcf0c694744",
        "colab": {
          "base_uri": "https://localhost:8080/",
          "height": 35
        }
      },
      "id": "WKF_XlD8BnhA",
      "execution_count": null,
      "outputs": [
        {
          "output_type": "execute_result",
          "data": {
            "text/plain": [
              "'hi-kod veri bilimi atölyesi'"
            ],
            "application/vnd.google.colaboratory.intrinsic+json": {
              "type": "string"
            }
          },
          "metadata": {},
          "execution_count": 30
        }
      ]
    },
    {
      "cell_type": "code",
      "source": [
        "sayi = \"0123456789\""
      ],
      "metadata": {
        "id": "A90JIAc0Bt7e"
      },
      "id": "A90JIAc0Bt7e",
      "execution_count": null,
      "outputs": []
    },
    {
      "cell_type": "code",
      "source": [
        "sayi[::2]"
      ],
      "metadata": {
        "id": "cHFC3E0RBz0i",
        "outputId": "e95d0ab3-273d-4104-e1b9-10d7308354be",
        "colab": {
          "base_uri": "https://localhost:8080/",
          "height": 35
        }
      },
      "id": "cHFC3E0RBz0i",
      "execution_count": null,
      "outputs": [
        {
          "output_type": "execute_result",
          "data": {
            "text/plain": [
              "'02468'"
            ],
            "application/vnd.google.colaboratory.intrinsic+json": {
              "type": "string"
            }
          },
          "metadata": {},
          "execution_count": 32
        }
      ]
    },
    {
      "cell_type": "code",
      "source": [
        "sayi[1::2]"
      ],
      "metadata": {
        "id": "mgzAKN2vCVuo",
        "outputId": "ca81a234-32a2-49fa-fc73-e06db3c9cdde",
        "colab": {
          "base_uri": "https://localhost:8080/",
          "height": 35
        }
      },
      "id": "mgzAKN2vCVuo",
      "execution_count": null,
      "outputs": [
        {
          "output_type": "execute_result",
          "data": {
            "text/plain": [
              "'13579'"
            ],
            "application/vnd.google.colaboratory.intrinsic+json": {
              "type": "string"
            }
          },
          "metadata": {},
          "execution_count": 59
        }
      ]
    }
  ],
  "metadata": {
    "kernelspec": {
      "display_name": "Python 3 (ipykernel)",
      "language": "python",
      "name": "python3"
    },
    "language_info": {
      "codemirror_mode": {
        "name": "ipython",
        "version": 3
      },
      "file_extension": ".py",
      "mimetype": "text/x-python",
      "name": "python",
      "nbconvert_exporter": "python",
      "pygments_lexer": "ipython3",
      "version": "3.9.12"
    },
    "colab": {
      "provenance": []
    }
  },
  "nbformat": 4,
  "nbformat_minor": 5
}